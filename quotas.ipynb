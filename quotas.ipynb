{
 "cells": [
  {
   "cell_type": "markdown",
   "id": "17f82eef",
   "metadata": {},
   "source": [
    "# Azure AI Models Quotas and Usages Discovery Recipe\n",
    "\n",
    "This Jupyter notebook serves as a guide for users looking to understand how to discover Azure AI Models, Quotas and subscription Usages across regions.\n",
    "\n",
    "## Pre-requisites\n",
    "\n",
    "Authenticate to Azure CLI\n",
    "\n",
    "```console\n",
    "az login --use-device-code\n",
    "```\n",
    "\n",
    "## Get Azure Subscription"
   ]
  },
  {
   "cell_type": "code",
   "execution_count": 1,
   "id": "d3e63c0b-dce5-4c8d-a27c-c7ab67739cdb",
   "metadata": {},
   "outputs": [
    {
     "name": "stdout",
     "output_type": "stream",
     "text": [
      "Using subscription xxxxxxxx-xxxx-xxxx-xxxx-2f5e9419c1cd\n"
     ]
    }
   ],
   "source": [
    "import requests\n",
    "import json\n",
    "import pandas as pd\n",
    "from datetime import datetime\n",
    "from azure.mgmt.subscription import SubscriptionClient\n",
    "from azure.identity import DefaultAzureCredential\n",
    "\n",
    "credential = DefaultAzureCredential()\n",
    "sub_client = SubscriptionClient(credential)\n",
    "subscription = next(sub_client.subscriptions.list(), None)\n",
    "if not subscription:\n",
    "    raise Exception(\"Authenticate using the az cli\")\n",
    "subscriptionId = subscription.subscription_id\n",
    "\n",
    "print(f\"Using subscription {\"x\" * 8  + \"-\" + (\"x\" * 4 + \"-\")*3}{subscriptionId[-12:]}\")"
   ]
  },
  {
   "cell_type": "markdown",
   "id": "5af91902",
   "metadata": {},
   "source": [
    "## Get API token and headers"
   ]
  },
  {
   "cell_type": "code",
   "execution_count": 2,
   "id": "f48f5971",
   "metadata": {},
   "outputs": [],
   "source": [
    "token = credential.get_token('https://management.azure.com/.default')\n",
    "headers = {'Authorization': 'Bearer ' + token.token}"
   ]
  },
  {
   "cell_type": "markdown",
   "id": "804f06e6",
   "metadata": {},
   "source": [
    "## Locations API: Discover regions and geography groups\n",
    "\n",
    "### Regions"
   ]
  },
  {
   "cell_type": "code",
   "execution_count": 3,
   "id": "80dd2913",
   "metadata": {},
   "outputs": [
    {
     "name": "stdout",
     "output_type": "stream",
     "text": [
      "92 regions:\n",
      "japan, brazilsoutheast, southafricawest, westus3, norwaywest, eastus2stage, eastus2euap, unitedstateseuap, canadacentral, southcentralusstage, centralindia, germanywestcentral, southeastasia, israel, swedencentral, ukwest, canada, eastus2, australiaeast, uk, switzerlandwest, canadaeast, australia, italynorth, australiacentral, northcentralusstage, westus2, southindia, uae, poland, uksouth, northcentralus, uaecentral, westeurope, qatarcentral, europe, westindia, germany, koreasouth, korea, southafrica, southafricanorth, newzealandnorth, france, southcentralus, westus, switzerlandnorth, brazilus, eastasia, polandcentral, unitedstates, australiasoutheast, westusstage, qatar, westus2stage, japanwest, global, northeurope, eastusstage, asiapacific, australiacentral2, westcentralus, koreacentral, eastasiastage, eastusstg, jioindiacentral, sweden, brazil, israelcentral, eastus, italy, singapore, centralusstage, centraluseuap, asia, brazilsouth, spaincentral, switzerland, newzealand, centralus, mexicocentral, japaneast, francesouth, india, germanynorth, southcentralusstg, jioindiawest, southeastasiastage, uaenorth, norwayeast, francecentral, norway\n"
     ]
    }
   ],
   "source": [
    "def get_regions():\n",
    "    locations_request = f\"https://management.azure.com/subscriptions/{subscriptionId}/locations?api-version=2021-04-01\"\n",
    "    response = requests.get(locations_request, headers=headers)\n",
    "    data = json.loads(response.text)\n",
    "    return data[\"value\"]\n",
    "\n",
    "regions = get_regions()\n",
    "\n",
    "def get_region_names(regions):\n",
    "    return set([r['name'] for r in regions])\n",
    "\n",
    "regions_list = get_region_names(regions)\n",
    "print(f\"{len(regions_list)} regions:\")\n",
    "print(\", \".join(regions_list))"
   ]
  },
  {
   "cell_type": "markdown",
   "id": "55cd349a-e719-4412-91a3-f5011a0cff1f",
   "metadata": {},
   "source": [
    "### Geography groups"
   ]
  },
  {
   "cell_type": "code",
   "execution_count": 4,
   "id": "c814dc95-97a4-4324-acbb-48107767489c",
   "metadata": {},
   "outputs": [
    {
     "name": "stdout",
     "output_type": "stream",
     "text": [
      "Asia Pacific, US, Mexico, Canada, Middle East, Europe, South America, Africa\n"
     ]
    }
   ],
   "source": [
    "def get_geography_groups(regions):\n",
    "    return set([region['metadata']['geographyGroup'] for region in regions if 'geographyGroup' in region['metadata']])\n",
    "\n",
    "geography_groups = get_geography_groups(regions)\n",
    "print(\", \".join(geography_groups))"
   ]
  },
  {
   "cell_type": "markdown",
   "id": "b2e7d142-7377-45c1-a4a8-fdc7abb13333",
   "metadata": {},
   "source": [
    "### Let's focus on US regions"
   ]
  },
  {
   "cell_type": "code",
   "execution_count": 5,
   "id": "55a21f27-0f53-4f41-ae04-0b80813abeac",
   "metadata": {},
   "outputs": [
    {
     "name": "stdout",
     "output_type": "stream",
     "text": [
      "northcentralusstage, centralusstage, westusstage, centraluseuap, westus2, westus2stage, westus3, northcentralus, centralus, eastusstage, eastus2stage, eastus2euap, westcentralus, southcentralusstage, eastusstg, southcentralusstg, southcentralus, eastus2, westus, eastus\n"
     ]
    }
   ],
   "source": [
    "def filter_by_geography_group(regions, *args):\n",
    "    return filter(lambda r: r['metadata']['geographyGroup'] in args, [r for r in regions if 'geographyGroup' in r['metadata']])\n",
    "regions_list = get_region_names(filter_by_geography_group(regions, 'US'))\n",
    "print(\", \".join(regions_list))"
   ]
  },
  {
   "cell_type": "markdown",
   "id": "11b3167d-58a0-4d20-92a2-fb2ad88e8694",
   "metadata": {},
   "source": [
    "### Helper to parallelize calls per region\n",
    "\n",
    "Most of the API calls we need to make going forward are region-specific, and we aim to aggregate results across multiple regions. Depending on the number of regions being queried, this could involve up to 90 regions. The following helper function enables parallel execution of queries for each region."
   ]
  },
  {
   "cell_type": "code",
   "execution_count": 6,
   "id": "c942e184-d2b2-4a8a-9794-ba080d9acf41",
   "metadata": {},
   "outputs": [],
   "source": [
    "def parallel_map(fn, *iterables, executor=None, **kwargs):\n",
    "    from concurrent.futures import ThreadPoolExecutor, as_completed\n",
    "    from tqdm import tqdm\n",
    "\n",
    "    \"\"\"\n",
    "    Equivalent to executor.map(fn, *iterables), but displays a tqdm-based progress bar.\n",
    "    \n",
    "    **kwargs is passed to tqdm.\n",
    "    \"\"\"\n",
    "    with executor if executor else ThreadPoolExecutor(max_workers=len(len(*iterables))) as ex:\n",
    "        futures = []\n",
    "        for iterable in iterables:\n",
    "            futures += [ex.submit(fn, i) for i in iterable]\n",
    "        for f in tqdm(as_completed(futures), total=len(futures), **kwargs):\n",
    "            yield f.result()"
   ]
  },
  {
   "cell_type": "markdown",
   "id": "743342ec-c845-4c1f-8d69-c91cbf01b258",
   "metadata": {},
   "source": [
    "### Discover regions where Azure AI is supported using the Models API"
   ]
  },
  {
   "cell_type": "markdown",
   "id": "97784121-cb28-4ec8-aac5-58a0057a2675",
   "metadata": {},
   "source": [
    "Not all Azure regions support Azure AI, let's filter out not supported regions"
   ]
  },
  {
   "cell_type": "code",
   "execution_count": 7,
   "id": "c2ad818e-8657-4077-b4fa-01bfe4854845",
   "metadata": {},
   "outputs": [
    {
     "name": "stderr",
     "output_type": "stream",
     "text": [
      "100%|██████████| 20/20 [00:00<00:00, 33.02it/s]"
     ]
    },
    {
     "name": "stdout",
     "output_type": "stream",
     "text": [
      "Potential Azure OpenAI regions based on control plane response:\n",
      "westus, westus2, westcentralus, westus3, centralus, southcentralus, northcentralus, eastus2, eastus\n"
     ]
    },
    {
     "name": "stderr",
     "output_type": "stream",
     "text": [
      "\n"
     ]
    }
   ],
   "source": [
    "def get_models_response(region):\n",
    "    url = f\"https://management.azure.com/subscriptions/{subscriptionId}/providers/Microsoft.CognitiveServices/locations/{region}/models?api-version=2023-05-01\"\n",
    "    return (region, requests.get(url, headers=headers))\n",
    "\n",
    "def find_azureai_supported_regions():\n",
    "    regions_successful = []\n",
    "    regions_failed = []\n",
    "    \n",
    "    for (region, result) in parallel_map(get_models_response, regions_list):\n",
    "        if result.status_code == 200:\n",
    "            regions_successful.append(region)\n",
    "        else:\n",
    "            regions_failed.append(region)\n",
    "    return (regions_successful, regions_failed)\n",
    "\n",
    "regions_successful, regions_failed = find_azureai_supported_regions()\n",
    "print(\"Potential Azure OpenAI regions based on control plane response:\")\n",
    "print(\", \".join(regions_successful))"
   ]
  },
  {
   "cell_type": "code",
   "execution_count": 8,
   "id": "faf8032e-af68-4ff5-9629-18d1046e7958",
   "metadata": {},
   "outputs": [
    {
     "name": "stdout",
     "output_type": "stream",
     "text": [
      "Azure OpenAI Not Supported:\n",
      "centralusstage, northcentralusstage, eastus2euap, westusstage, centraluseuap, eastus2stage, eastusstage, westus2stage, southcentralusstage, southcentralusstg, eastusstg\n"
     ]
    }
   ],
   "source": [
    "print(\"Azure OpenAI Not Supported:\")\n",
    "print(\", \".join(regions_failed))"
   ]
  },
  {
   "cell_type": "markdown",
   "id": "9564bf09-a83e-463e-a45c-e70480261ee3",
   "metadata": {},
   "source": [
    "## Models API: Discover models and SKUs"
   ]
  },
  {
   "cell_type": "markdown",
   "id": "270c7fdd-d158-403f-9e26-392842f7d8e3",
   "metadata": {},
   "source": [
    "### List models"
   ]
  },
  {
   "cell_type": "code",
   "execution_count": 9,
   "id": "8aa4e937-6d43-402f-b7de-34db8bdf4f6e",
   "metadata": {},
   "outputs": [
    {
     "name": "stderr",
     "output_type": "stream",
     "text": [
      "100%|██████████| 9/9 [00:00<00:00, 13.74it/s]\n"
     ]
    }
   ],
   "source": [
    "def get_models(region):\n",
    "    (_, response) = get_models_response(region)\n",
    "    parsed = json.loads(response.text)\n",
    "    return parsed['value']\n",
    "\n",
    "def get_models_regions(regions):\n",
    "    def get_models_region(region):\n",
    "        return [{\n",
    "            \"model\": model,\n",
    "            \"region\": region\n",
    "        } for model in get_models(region)]\n",
    "\n",
    "    import itertools\n",
    "    return itertools.chain.from_iterable(parallel_map(get_models_region, regions))\n",
    "\n",
    "models_regions = list(get_models_regions(regions_successful))"
   ]
  },
  {
   "cell_type": "code",
   "execution_count": 10,
   "id": "c14b8846-a682-42c4-bd9f-c9094753d8b5",
   "metadata": {},
   "outputs": [
    {
     "data": {
      "text/html": [
       "<div>\n",
       "<style scoped>\n",
       "    .dataframe tbody tr th:only-of-type {\n",
       "        vertical-align: middle;\n",
       "    }\n",
       "\n",
       "    .dataframe tbody tr th {\n",
       "        vertical-align: top;\n",
       "    }\n",
       "\n",
       "    .dataframe thead th {\n",
       "        text-align: right;\n",
       "    }\n",
       "</style>\n",
       "<table border=\"1\" class=\"dataframe\">\n",
       "  <thead>\n",
       "    <tr style=\"text-align: right;\">\n",
       "      <th></th>\n",
       "      <th>region</th>\n",
       "      <th>kind</th>\n",
       "      <th>modelName</th>\n",
       "      <th>modelVersion</th>\n",
       "      <th>skus</th>\n",
       "    </tr>\n",
       "  </thead>\n",
       "  <tbody>\n",
       "    <tr>\n",
       "      <th>0</th>\n",
       "      <td>westus</td>\n",
       "      <td>OpenAI</td>\n",
       "      <td>gpt-35-turbo</td>\n",
       "      <td>0613</td>\n",
       "      <td>GlobalBatch</td>\n",
       "    </tr>\n",
       "    <tr>\n",
       "      <th>1</th>\n",
       "      <td>westus</td>\n",
       "      <td>OpenAI</td>\n",
       "      <td>gpt-35-turbo</td>\n",
       "      <td>1106</td>\n",
       "      <td>Standard, GlobalBatch, ProvisionedManaged</td>\n",
       "    </tr>\n",
       "    <tr>\n",
       "      <th>2</th>\n",
       "      <td>westus</td>\n",
       "      <td>OpenAI</td>\n",
       "      <td>gpt-35-turbo</td>\n",
       "      <td>0125</td>\n",
       "      <td>Standard, GlobalBatch, ProvisionedManaged</td>\n",
       "    </tr>\n",
       "    <tr>\n",
       "      <th>3</th>\n",
       "      <td>westus</td>\n",
       "      <td>OpenAI</td>\n",
       "      <td>gpt-4</td>\n",
       "      <td>0125-Preview</td>\n",
       "      <td>ProvisionedManaged</td>\n",
       "    </tr>\n",
       "    <tr>\n",
       "      <th>4</th>\n",
       "      <td>westus</td>\n",
       "      <td>OpenAI</td>\n",
       "      <td>gpt-4</td>\n",
       "      <td>1106-Preview</td>\n",
       "      <td>Standard, ProvisionedManaged</td>\n",
       "    </tr>\n",
       "  </tbody>\n",
       "</table>\n",
       "</div>"
      ],
      "text/plain": [
       "   region    kind     modelName  modelVersion  \\\n",
       "0  westus  OpenAI  gpt-35-turbo          0613   \n",
       "1  westus  OpenAI  gpt-35-turbo          1106   \n",
       "2  westus  OpenAI  gpt-35-turbo          0125   \n",
       "3  westus  OpenAI         gpt-4  0125-Preview   \n",
       "4  westus  OpenAI         gpt-4  1106-Preview   \n",
       "\n",
       "                                        skus  \n",
       "0                                GlobalBatch  \n",
       "1  Standard, GlobalBatch, ProvisionedManaged  \n",
       "2  Standard, GlobalBatch, ProvisionedManaged  \n",
       "3                         ProvisionedManaged  \n",
       "4               Standard, ProvisionedManaged  "
      ]
     },
     "execution_count": 10,
     "metadata": {},
     "output_type": "execute_result"
    }
   ],
   "source": [
    "def format_model_region(model_region):\n",
    "    model = model_region['model']\n",
    "    return {\n",
    "        'region': model_region['region'],\n",
    "        'kind': model['kind'],\n",
    "        'modelName': model['model']['name'],\n",
    "        'modelVersion': model['model']['version'],\n",
    "        'skus': ', '.join([sku['name'] for sku in model['model']['skus']]),\n",
    "    }\n",
    "\n",
    "## Convert the list to a DataFrame\n",
    "df = pd.DataFrame(map(format_model_region, models_regions))\n",
    "pd.set_option('display.max_rows', None)\n",
    "pd.set_option('display.max_colwidth', 100)\n",
    "df.head()"
   ]
  },
  {
   "cell_type": "markdown",
   "id": "6028b3e9",
   "metadata": {},
   "source": [
    "> **Note**: Only the top 5 are displayed"
   ]
  },
  {
   "cell_type": "markdown",
   "id": "3151b66a-08da-4151-865a-5e4816e456e4",
   "metadata": {},
   "source": [
    "### List models by region"
   ]
  },
  {
   "cell_type": "code",
   "execution_count": 11,
   "id": "4ea60ee9-fb84-49db-b432-a8d38aafe48c",
   "metadata": {},
   "outputs": [],
   "source": [
    "region_model_data = {}  \n",
    "\n",
    "excluded_models =  ['text-similarity-ada-001', 'text-babbage-001', 'text-curie-001', 'text-similarity-curie-001', 'text-davinci-002','text-davinci-003', 'text-davinci-fine-tune-002', 'code-davinci-002', 'code-davinci-fine-tune-002','text-ada-001', 'text-search-ada-doc-001', 'text-search-ada-query-001', 'code-search-ada-code-001','code-search-ada-text-001', 'text-similarity-babbage-001', 'text-search-babbage-doc-001','text-search-babbage-query-001', 'code-search-babbage-code-001', 'code-search-babbage-text-001', 'text-search-curie-doc-001', 'text-search-curie-query-001', 'text-davinci-001','text-similarity-davinci-001', 'text-search-davinci-doc-001', 'text-search-davinci-query-001','code-cushman-001']\n",
    "\n",
    "for region in regions_successful:\n",
    "    data_test = []\n",
    "\n",
    "    for item in get_models(region):\n",
    "        model_name = None\n",
    "        version = None\n",
    "        sku_name = None\n",
    "        if item[\"model\"][\"capabilities\"].get(\"scaleType\") == \"Manual\": #skip legacy models\n",
    "            continue\n",
    "        model_name = item[\"model\"][\"name\"]\n",
    "        if model_name in excluded_models: # if in list skip\n",
    "            continue\n",
    "        version = item[\"model\"][\"version\"]\n",
    "        rdate = item[\"model\"][\"deprecation\"]\n",
    "        for sku in item[\"model\"][\"skus\"]:\n",
    "            sku_name = sku[\"name\"]\n",
    "        if sku_name == \"Standard\": # This example is only targeting Standard Model deployments SKUI\n",
    "            data_test.append({\"Model Name\": model_name, \"Version\": version, \"SKU Name\": sku_name})\n",
    "                #print(data_test)\n",
    "\n",
    "    region_model_data[region] = data_test  # store the model data under corresponding region name"
   ]
  },
  {
   "cell_type": "code",
   "execution_count": 12,
   "id": "7792227a-a3a2-4310-8d7f-f927e3439f7f",
   "metadata": {},
   "outputs": [
    {
     "data": {
      "text/html": [
       "<div>\n",
       "<style scoped>\n",
       "    .dataframe tbody tr th:only-of-type {\n",
       "        vertical-align: middle;\n",
       "    }\n",
       "\n",
       "    .dataframe tbody tr th {\n",
       "        vertical-align: top;\n",
       "    }\n",
       "\n",
       "    .dataframe thead tr th {\n",
       "        text-align: left;\n",
       "    }\n",
       "</style>\n",
       "<table border=\"1\" class=\"dataframe\">\n",
       "  <thead>\n",
       "    <tr>\n",
       "      <th>Model Name</th>\n",
       "      <th>Region</th>\n",
       "      <th>babbage-002</th>\n",
       "      <th>dall-e-2</th>\n",
       "      <th>dall-e-3</th>\n",
       "      <th>davinci-002</th>\n",
       "      <th>gpt-35-turbo</th>\n",
       "      <th>gpt-35-turbo-16k</th>\n",
       "      <th>gpt-35-turbo-instruct</th>\n",
       "      <th>gpt-4</th>\n",
       "      <th>text-embedding-3-large</th>\n",
       "      <th>text-embedding-3-small</th>\n",
       "      <th colspan=\"2\" halign=\"left\">text-embedding-ada-002</th>\n",
       "      <th>tts</th>\n",
       "      <th>tts-hd</th>\n",
       "      <th>whisper</th>\n",
       "    </tr>\n",
       "    <tr>\n",
       "      <th>Version</th>\n",
       "      <th></th>\n",
       "      <th>1</th>\n",
       "      <th>2.0</th>\n",
       "      <th>3.0</th>\n",
       "      <th>1</th>\n",
       "      <th>0301</th>\n",
       "      <th>0613</th>\n",
       "      <th>0914</th>\n",
       "      <th>vision-preview</th>\n",
       "      <th>1</th>\n",
       "      <th>1</th>\n",
       "      <th>1</th>\n",
       "      <th>2</th>\n",
       "      <th>001</th>\n",
       "      <th>001</th>\n",
       "      <th>001</th>\n",
       "    </tr>\n",
       "  </thead>\n",
       "  <tbody>\n",
       "    <tr>\n",
       "      <th>0</th>\n",
       "      <td>eastus</td>\n",
       "      <td>False</td>\n",
       "      <td>True</td>\n",
       "      <td>True</td>\n",
       "      <td>False</td>\n",
       "      <td>True</td>\n",
       "      <td>True</td>\n",
       "      <td>True</td>\n",
       "      <td>False</td>\n",
       "      <td>True</td>\n",
       "      <td>True</td>\n",
       "      <td>True</td>\n",
       "      <td>True</td>\n",
       "      <td>False</td>\n",
       "      <td>False</td>\n",
       "      <td>False</td>\n",
       "    </tr>\n",
       "    <tr>\n",
       "      <th>1</th>\n",
       "      <td>eastus2</td>\n",
       "      <td>False</td>\n",
       "      <td>False</td>\n",
       "      <td>False</td>\n",
       "      <td>False</td>\n",
       "      <td>False</td>\n",
       "      <td>True</td>\n",
       "      <td>False</td>\n",
       "      <td>False</td>\n",
       "      <td>True</td>\n",
       "      <td>True</td>\n",
       "      <td>False</td>\n",
       "      <td>True</td>\n",
       "      <td>False</td>\n",
       "      <td>False</td>\n",
       "      <td>True</td>\n",
       "    </tr>\n",
       "    <tr>\n",
       "      <th>2</th>\n",
       "      <td>northcentralus</td>\n",
       "      <td>True</td>\n",
       "      <td>False</td>\n",
       "      <td>False</td>\n",
       "      <td>True</td>\n",
       "      <td>False</td>\n",
       "      <td>True</td>\n",
       "      <td>False</td>\n",
       "      <td>False</td>\n",
       "      <td>False</td>\n",
       "      <td>False</td>\n",
       "      <td>False</td>\n",
       "      <td>True</td>\n",
       "      <td>True</td>\n",
       "      <td>True</td>\n",
       "      <td>True</td>\n",
       "    </tr>\n",
       "    <tr>\n",
       "      <th>3</th>\n",
       "      <td>southcentralus</td>\n",
       "      <td>False</td>\n",
       "      <td>False</td>\n",
       "      <td>False</td>\n",
       "      <td>False</td>\n",
       "      <td>True</td>\n",
       "      <td>False</td>\n",
       "      <td>False</td>\n",
       "      <td>False</td>\n",
       "      <td>False</td>\n",
       "      <td>False</td>\n",
       "      <td>True</td>\n",
       "      <td>True</td>\n",
       "      <td>False</td>\n",
       "      <td>False</td>\n",
       "      <td>False</td>\n",
       "    </tr>\n",
       "    <tr>\n",
       "      <th>4</th>\n",
       "      <td>westus</td>\n",
       "      <td>False</td>\n",
       "      <td>False</td>\n",
       "      <td>False</td>\n",
       "      <td>False</td>\n",
       "      <td>False</td>\n",
       "      <td>False</td>\n",
       "      <td>False</td>\n",
       "      <td>True</td>\n",
       "      <td>False</td>\n",
       "      <td>True</td>\n",
       "      <td>False</td>\n",
       "      <td>True</td>\n",
       "      <td>False</td>\n",
       "      <td>False</td>\n",
       "      <td>False</td>\n",
       "    </tr>\n",
       "    <tr>\n",
       "      <th>5</th>\n",
       "      <td>westus3</td>\n",
       "      <td>False</td>\n",
       "      <td>False</td>\n",
       "      <td>False</td>\n",
       "      <td>False</td>\n",
       "      <td>False</td>\n",
       "      <td>False</td>\n",
       "      <td>False</td>\n",
       "      <td>False</td>\n",
       "      <td>True</td>\n",
       "      <td>False</td>\n",
       "      <td>False</td>\n",
       "      <td>True</td>\n",
       "      <td>False</td>\n",
       "      <td>False</td>\n",
       "      <td>False</td>\n",
       "    </tr>\n",
       "  </tbody>\n",
       "</table>\n",
       "</div>"
      ],
      "text/plain": [
       "Model Name          Region babbage-002 dall-e-2 dall-e-3 davinci-002  \\\n",
       "Version                              1      2.0      3.0           1   \n",
       "0                   eastus       False     True     True       False   \n",
       "1                  eastus2       False    False    False       False   \n",
       "2           northcentralus        True    False    False        True   \n",
       "3           southcentralus       False    False    False       False   \n",
       "4                   westus       False    False    False       False   \n",
       "5                  westus3       False    False    False       False   \n",
       "\n",
       "Model Name gpt-35-turbo gpt-35-turbo-16k gpt-35-turbo-instruct          gpt-4  \\\n",
       "Version            0301             0613                  0914 vision-preview   \n",
       "0                  True             True                  True          False   \n",
       "1                 False             True                 False          False   \n",
       "2                 False             True                 False          False   \n",
       "3                  True            False                 False          False   \n",
       "4                 False            False                 False           True   \n",
       "5                 False            False                 False          False   \n",
       "\n",
       "Model Name text-embedding-3-large text-embedding-3-small  \\\n",
       "Version                         1                      1   \n",
       "0                            True                   True   \n",
       "1                            True                   True   \n",
       "2                           False                  False   \n",
       "3                           False                  False   \n",
       "4                           False                   True   \n",
       "5                            True                  False   \n",
       "\n",
       "Model Name text-embedding-ada-002          tts tts-hd whisper  \n",
       "Version                         1     2    001    001     001  \n",
       "0                            True  True  False  False   False  \n",
       "1                           False  True  False  False    True  \n",
       "2                           False  True   True   True    True  \n",
       "3                            True  True  False  False   False  \n",
       "4                           False  True  False  False   False  \n",
       "5                           False  True  False  False   False  "
      ]
     },
     "execution_count": 12,
     "metadata": {},
     "output_type": "execute_result"
    }
   ],
   "source": [
    "rows = []\n",
    "for region, models in region_model_data.items():\n",
    "    for model in models:\n",
    "        row = model.copy()  \n",
    "        row['Region'] = region  \n",
    "        rows.append(row)\n",
    "\n",
    "df = pd.DataFrame(rows)\n",
    "df = df[['Region', 'Model Name', 'Version', 'SKU Name']]\n",
    "pd.set_option('display.max_rows', None)\n",
    "\n",
    "df['Exist'] = True \n",
    "pivot_df = df.pivot_table(index='Region', columns=['Model Name', 'Version'], values='Exist', fill_value=False, aggfunc='any')\n",
    "pivot_df.reset_index(inplace = True)\n",
    "\n",
    "pivot_df"
   ]
  },
  {
   "cell_type": "markdown",
   "id": "36c647e2-130e-463a-bd71-9225ce8ae6d7",
   "metadata": {},
   "source": [
    "## Usages API: Discover quotas and usages\n",
    "\n",
    "The Usages API allows to query current usage and limits and deduce the remaining quota available"
   ]
  },
  {
   "cell_type": "code",
   "execution_count": 13,
   "id": "85086c3e-f327-4ef3-9b8a-c760cf27f6b4",
   "metadata": {},
   "outputs": [],
   "source": [
    "def get_usages(region):\n",
    "    url = f\"https://management.azure.com/subscriptions/{subscriptionId}/providers/Microsoft.CognitiveServices/locations/{region}/usages?api-version=2023-05-01\"\n",
    "    response = requests.get(url, headers=headers)\n",
    "    return json.loads(response.text)['value']"
   ]
  },
  {
   "cell_type": "markdown",
   "id": "cb836b14-9e37-4ae0-8d4e-cad9682643f4",
   "metadata": {},
   "source": [
    "### Example for eastus2"
   ]
  },
  {
   "cell_type": "code",
   "execution_count": 14,
   "id": "286a79ae-9097-439c-9904-2151e188e2a4",
   "metadata": {},
   "outputs": [],
   "source": [
    "usages = get_usages('eastus2')"
   ]
  },
  {
   "cell_type": "code",
   "execution_count": 15,
   "id": "9f0e2bac-cf8b-44ac-b58e-8d816ba737e1",
   "metadata": {},
   "outputs": [
    {
     "data": {
      "text/html": [
       "<div>\n",
       "<style scoped>\n",
       "    .dataframe tbody tr th:only-of-type {\n",
       "        vertical-align: middle;\n",
       "    }\n",
       "\n",
       "    .dataframe tbody tr th {\n",
       "        vertical-align: top;\n",
       "    }\n",
       "\n",
       "    .dataframe thead th {\n",
       "        text-align: right;\n",
       "    }\n",
       "</style>\n",
       "<table border=\"1\" class=\"dataframe\">\n",
       "  <thead>\n",
       "    <tr style=\"text-align: right;\">\n",
       "      <th></th>\n",
       "      <th>usageName</th>\n",
       "      <th>localizedUsageName</th>\n",
       "      <th>currentUsage</th>\n",
       "      <th>usageLimit</th>\n",
       "      <th>remainingQuota</th>\n",
       "      <th>usageUnit</th>\n",
       "    </tr>\n",
       "  </thead>\n",
       "  <tbody>\n",
       "    <tr>\n",
       "      <th>20</th>\n",
       "      <td>OpenAI.GlobalStandard.gpt-4o</td>\n",
       "      <td>Tokens Per Minute (thousands) - gpt-4o - GlobalStandard</td>\n",
       "      <td>11</td>\n",
       "      <td>30</td>\n",
       "      <td>19</td>\n",
       "      <td>Count</td>\n",
       "    </tr>\n",
       "    <tr>\n",
       "      <th>23</th>\n",
       "      <td>OpenAI.DataZoneStandard.gpt-4o</td>\n",
       "      <td>Tokens Per Minute (thousands) - gpt-4o - DataZoneStandard</td>\n",
       "      <td>10</td>\n",
       "      <td>30</td>\n",
       "      <td>20</td>\n",
       "      <td>Count</td>\n",
       "    </tr>\n",
       "    <tr>\n",
       "      <th>34</th>\n",
       "      <td>AccountCount</td>\n",
       "      <td>Maximum Resources per Region</td>\n",
       "      <td>4</td>\n",
       "      <td>200</td>\n",
       "      <td>196</td>\n",
       "      <td>Count</td>\n",
       "    </tr>\n",
       "    <tr>\n",
       "      <th>32</th>\n",
       "      <td>AIServices.S0.AccountCount</td>\n",
       "      <td>Maximum resources for AIServices S0 sku.</td>\n",
       "      <td>4</td>\n",
       "      <td>50</td>\n",
       "      <td>46</td>\n",
       "      <td>Count</td>\n",
       "    </tr>\n",
       "    <tr>\n",
       "      <th>18</th>\n",
       "      <td>OpenAI.Standard.gpt-4o</td>\n",
       "      <td>Tokens Per Minute (thousands) - gpt-4o</td>\n",
       "      <td>1</td>\n",
       "      <td>8</td>\n",
       "      <td>7</td>\n",
       "      <td>Count</td>\n",
       "    </tr>\n",
       "    <tr>\n",
       "      <th>0</th>\n",
       "      <td>OpenAI.ProvisionedManaged</td>\n",
       "      <td>Provisioned Managed Throughput Unit</td>\n",
       "      <td>0</td>\n",
       "      <td>0</td>\n",
       "      <td>0</td>\n",
       "      <td>Count</td>\n",
       "    </tr>\n",
       "    <tr>\n",
       "      <th>1</th>\n",
       "      <td>OpenAI.GlobalProvisionedManaged</td>\n",
       "      <td>Global Provisioned Managed Throughput Unit</td>\n",
       "      <td>0</td>\n",
       "      <td>0</td>\n",
       "      <td>0</td>\n",
       "      <td>Count</td>\n",
       "    </tr>\n",
       "    <tr>\n",
       "      <th>2</th>\n",
       "      <td>OpenAI.FineTuned.Deployments</td>\n",
       "      <td>Standard Fine-Tuned Deployments</td>\n",
       "      <td>0</td>\n",
       "      <td>5</td>\n",
       "      <td>5</td>\n",
       "      <td>Count</td>\n",
       "    </tr>\n",
       "    <tr>\n",
       "      <th>3</th>\n",
       "      <td>OpenAI.S0.AccountCount</td>\n",
       "      <td>Maximum resources for OpenAI S0 sku.</td>\n",
       "      <td>0</td>\n",
       "      <td>30</td>\n",
       "      <td>30</td>\n",
       "      <td>Count</td>\n",
       "    </tr>\n",
       "    <tr>\n",
       "      <th>5</th>\n",
       "      <td>OpenAI.Standard.gpt-35-turbo</td>\n",
       "      <td>Tokens Per Minute (thousands) - GPT-35-Turbo</td>\n",
       "      <td>0</td>\n",
       "      <td>30</td>\n",
       "      <td>30</td>\n",
       "      <td>Count</td>\n",
       "    </tr>\n",
       "  </tbody>\n",
       "</table>\n",
       "</div>"
      ],
      "text/plain": [
       "                          usageName  \\\n",
       "20     OpenAI.GlobalStandard.gpt-4o   \n",
       "23   OpenAI.DataZoneStandard.gpt-4o   \n",
       "34                     AccountCount   \n",
       "32       AIServices.S0.AccountCount   \n",
       "18           OpenAI.Standard.gpt-4o   \n",
       "0         OpenAI.ProvisionedManaged   \n",
       "1   OpenAI.GlobalProvisionedManaged   \n",
       "2      OpenAI.FineTuned.Deployments   \n",
       "3            OpenAI.S0.AccountCount   \n",
       "5      OpenAI.Standard.gpt-35-turbo   \n",
       "\n",
       "                                           localizedUsageName  currentUsage  \\\n",
       "20    Tokens Per Minute (thousands) - gpt-4o - GlobalStandard            11   \n",
       "23  Tokens Per Minute (thousands) - gpt-4o - DataZoneStandard            10   \n",
       "34                               Maximum Resources per Region             4   \n",
       "32                   Maximum resources for AIServices S0 sku.             4   \n",
       "18                     Tokens Per Minute (thousands) - gpt-4o             1   \n",
       "0                         Provisioned Managed Throughput Unit             0   \n",
       "1                  Global Provisioned Managed Throughput Unit             0   \n",
       "2                             Standard Fine-Tuned Deployments             0   \n",
       "3                        Maximum resources for OpenAI S0 sku.             0   \n",
       "5                Tokens Per Minute (thousands) - GPT-35-Turbo             0   \n",
       "\n",
       "    usageLimit  remainingQuota usageUnit  \n",
       "20          30              19     Count  \n",
       "23          30              20     Count  \n",
       "34         200             196     Count  \n",
       "32          50              46     Count  \n",
       "18           8               7     Count  \n",
       "0            0               0     Count  \n",
       "1            0               0     Count  \n",
       "2            5               5     Count  \n",
       "3           30              30     Count  \n",
       "5           30              30     Count  "
      ]
     },
     "execution_count": 15,
     "metadata": {},
     "output_type": "execute_result"
    }
   ],
   "source": [
    "def format_usage(usage):\n",
    "    return {\n",
    "        'usageName': usage['name']['value'],\n",
    "        'localizedUsageName': usage['name']['localizedValue'],\n",
    "        'currentUsage': usage['currentValue'],\n",
    "        'usageLimit': usage['limit'],\n",
    "        'remainingQuota': usage['limit'] - usage['currentValue'],\n",
    "        'usageUnit': usage['unit'],\n",
    "    }\n",
    "\n",
    "## Convert the list to a DataFrame\n",
    "df = pd.DataFrame(map(format_usage, usages))\n",
    "pd.set_option('display.max_rows', None)\n",
    "pd.set_option('display.max_colwidth', 100)\n",
    "df.sort_values(by='currentUsage', ascending=False).head(10)"
   ]
  },
  {
   "cell_type": "markdown",
   "id": "aa60716c",
   "metadata": {},
   "source": [
    "> **Note**: Only the top 5 are displayed\n",
    "\n",
    "> **Important**: The `usageName` is the value we'll use to join models with usages"
   ]
  },
  {
   "cell_type": "markdown",
   "id": "49528d82-0bfd-4f4c-801d-97575dd128b1",
   "metadata": {},
   "source": [
    "### Discover usages for all regions"
   ]
  },
  {
   "cell_type": "code",
   "execution_count": 16,
   "id": "5ab765dd-d980-43b1-a519-0ff79eda443e",
   "metadata": {},
   "outputs": [
    {
     "name": "stderr",
     "output_type": "stream",
     "text": [
      "100%|██████████| 9/9 [00:00<00:00, 18.91it/s]\n"
     ]
    }
   ],
   "source": [
    "def get_regions_usages(regions):\n",
    "    import itertools\n",
    "    def get_region_usages(region):\n",
    "        return (region, get_usages(region))\n",
    "    return dict(parallel_map(get_region_usages, regions))\n",
    "\n",
    "regional_usages = get_regions_usages(regions_successful)"
   ]
  },
  {
   "cell_type": "markdown",
   "id": "23c86b67-b89c-45a0-bf52-d999f2b48a10",
   "metadata": {},
   "source": [
    "### Index usages by name and region\n",
    "\n",
    "We will use this index to join usages with the models on the **region** and **usage name**."
   ]
  },
  {
   "cell_type": "code",
   "execution_count": 17,
   "id": "1739867c-19fe-4e9f-a4ea-aa626712c98a",
   "metadata": {},
   "outputs": [],
   "source": [
    "def index_usages_by_name(usages):\n",
    "    from functools import reduce\n",
    "    def usage_name_reducer(j, u):\n",
    "        j[u['name']['value']] = u\n",
    "        return j\n",
    "    return reduce(usage_name_reducer, usages, {})\n",
    "\n",
    "regional_usages_by_name = dict([(region, index_usages_by_name(usages)) for (region, usages) in regional_usages.items()])"
   ]
  },
  {
   "cell_type": "markdown",
   "id": "1182590e-011c-49ad-a386-bdce3e784da7",
   "metadata": {},
   "source": [
    "## Stitch APIs together"
   ]
  },
  {
   "cell_type": "markdown",
   "id": "5a4df935-de4f-4d8e-a59c-f79bfb022e01",
   "metadata": {},
   "source": [
    "### Flatten models with SKUs"
   ]
  },
  {
   "cell_type": "markdown",
   "id": "2cd9c964-b9ee-439b-a3f5-9537611fb432",
   "metadata": {},
   "source": [
    "SKUs are listed as an array under each model. We want one SKU per line"
   ]
  },
  {
   "cell_type": "code",
   "execution_count": 18,
   "id": "88626eda-64b3-46ff-a027-03782fd95a86",
   "metadata": {},
   "outputs": [],
   "source": [
    "def flatten_models_sku(models_region):\n",
    "    for model_join in models_region:\n",
    "        model = model_join['model']\n",
    "        skus = model['model']['skus']\n",
    "        if skus:\n",
    "            for sku in skus:\n",
    "                yield model_join | {\n",
    "                    \"sku\": sku\n",
    "                }\n",
    "model_region_skus = list(flatten_models_sku(models_regions))"
   ]
  },
  {
   "cell_type": "code",
   "execution_count": 19,
   "id": "24e94dae-89d1-4c29-9fbd-deb430b12284",
   "metadata": {},
   "outputs": [
    {
     "data": {
      "text/html": [
       "<div>\n",
       "<style scoped>\n",
       "    .dataframe tbody tr th:only-of-type {\n",
       "        vertical-align: middle;\n",
       "    }\n",
       "\n",
       "    .dataframe tbody tr th {\n",
       "        vertical-align: top;\n",
       "    }\n",
       "\n",
       "    .dataframe thead th {\n",
       "        text-align: right;\n",
       "    }\n",
       "</style>\n",
       "<table border=\"1\" class=\"dataframe\">\n",
       "  <thead>\n",
       "    <tr style=\"text-align: right;\">\n",
       "      <th></th>\n",
       "      <th>region</th>\n",
       "      <th>kind</th>\n",
       "      <th>modelName</th>\n",
       "      <th>modelVersion</th>\n",
       "      <th>skuName</th>\n",
       "      <th>usageName</th>\n",
       "    </tr>\n",
       "  </thead>\n",
       "  <tbody>\n",
       "    <tr>\n",
       "      <th>0</th>\n",
       "      <td>westus</td>\n",
       "      <td>OpenAI</td>\n",
       "      <td>gpt-35-turbo</td>\n",
       "      <td>0613</td>\n",
       "      <td>GlobalBatch</td>\n",
       "      <td>OpenAI.GlobalBatch.gpt-35-turbo</td>\n",
       "    </tr>\n",
       "    <tr>\n",
       "      <th>1</th>\n",
       "      <td>westus</td>\n",
       "      <td>OpenAI</td>\n",
       "      <td>gpt-35-turbo</td>\n",
       "      <td>1106</td>\n",
       "      <td>Standard</td>\n",
       "      <td>OpenAI.Standard.gpt-35-turbo</td>\n",
       "    </tr>\n",
       "    <tr>\n",
       "      <th>2</th>\n",
       "      <td>westus</td>\n",
       "      <td>OpenAI</td>\n",
       "      <td>gpt-35-turbo</td>\n",
       "      <td>1106</td>\n",
       "      <td>GlobalBatch</td>\n",
       "      <td>OpenAI.GlobalBatch.gpt-35-turbo</td>\n",
       "    </tr>\n",
       "    <tr>\n",
       "      <th>3</th>\n",
       "      <td>westus</td>\n",
       "      <td>OpenAI</td>\n",
       "      <td>gpt-35-turbo</td>\n",
       "      <td>1106</td>\n",
       "      <td>ProvisionedManaged</td>\n",
       "      <td>OpenAI.ProvisionedManaged</td>\n",
       "    </tr>\n",
       "    <tr>\n",
       "      <th>4</th>\n",
       "      <td>westus</td>\n",
       "      <td>OpenAI</td>\n",
       "      <td>gpt-35-turbo</td>\n",
       "      <td>0125</td>\n",
       "      <td>Standard</td>\n",
       "      <td>OpenAI.Standard.gpt-35-turbo</td>\n",
       "    </tr>\n",
       "  </tbody>\n",
       "</table>\n",
       "</div>"
      ],
      "text/plain": [
       "   region    kind     modelName modelVersion             skuName  \\\n",
       "0  westus  OpenAI  gpt-35-turbo         0613         GlobalBatch   \n",
       "1  westus  OpenAI  gpt-35-turbo         1106            Standard   \n",
       "2  westus  OpenAI  gpt-35-turbo         1106         GlobalBatch   \n",
       "3  westus  OpenAI  gpt-35-turbo         1106  ProvisionedManaged   \n",
       "4  westus  OpenAI  gpt-35-turbo         0125            Standard   \n",
       "\n",
       "                         usageName  \n",
       "0  OpenAI.GlobalBatch.gpt-35-turbo  \n",
       "1     OpenAI.Standard.gpt-35-turbo  \n",
       "2  OpenAI.GlobalBatch.gpt-35-turbo  \n",
       "3        OpenAI.ProvisionedManaged  \n",
       "4     OpenAI.Standard.gpt-35-turbo  "
      ]
     },
     "execution_count": 19,
     "metadata": {},
     "output_type": "execute_result"
    }
   ],
   "source": [
    "def format_model_region_sku(model_region_sku):\n",
    "    sku = model_region_sku['sku']\n",
    "    return format_model_region(model_region_sku) | {\n",
    "        'skuName': sku['name'],\n",
    "        'usageName': sku['usageName'],\n",
    "    }\n",
    "\n",
    "## Convert the list to a DataFrame\n",
    "df = pd.DataFrame(map(format_model_region_sku, model_region_skus))\n",
    "df.loc[:, df.columns != 'skus'].head()"
   ]
  },
  {
   "cell_type": "markdown",
   "id": "66c930d3-c7ff-4eff-b758-2b7ea2fbbeb9",
   "metadata": {},
   "source": [
    "> **Note**: Only the top 5 are displayed\n",
    "\n",
    "> **Important**: The `region` and `usageName` are the keys we'll use to join models with usages"
   ]
  },
  {
   "cell_type": "markdown",
   "id": "a6ec0454-41ac-48df-8392-16011beb64de",
   "metadata": {},
   "source": [
    "### Join models with usages\n",
    "\n",
    "Use the **region** and the **SKU**'s `usageName` to join models with usages"
   ]
  },
  {
   "cell_type": "code",
   "execution_count": 20,
   "id": "36b55e75-edf5-475b-8242-b04db95c18cd",
   "metadata": {},
   "outputs": [],
   "source": [
    "def join_models_usages(models_flattened, regional_usages_by_name):\n",
    "    for model_join in models_flattened:\n",
    "        model = model_join['model']\n",
    "        sku = model_join['sku']\n",
    "        region = model_join['region']\n",
    "        usage = None\n",
    "        if sku:\n",
    "            usageName = sku['usageName']\n",
    "            usages_by_name = regional_usages_by_name[region]\n",
    "            usage = usages_by_name[usageName]\n",
    "        yield model_join | {\n",
    "            \"usage\": usage\n",
    "        }\n",
    "\n",
    "joined_model_sku_usages = list(join_models_usages(model_region_skus, regional_usages_by_name))"
   ]
  },
  {
   "cell_type": "code",
   "execution_count": 21,
   "id": "8368614e-37d4-4b1d-bc2a-8698cbc3de2a",
   "metadata": {},
   "outputs": [
    {
     "data": {
      "text/html": [
       "<div>\n",
       "<style scoped>\n",
       "    .dataframe tbody tr th:only-of-type {\n",
       "        vertical-align: middle;\n",
       "    }\n",
       "\n",
       "    .dataframe tbody tr th {\n",
       "        vertical-align: top;\n",
       "    }\n",
       "\n",
       "    .dataframe thead th {\n",
       "        text-align: right;\n",
       "    }\n",
       "</style>\n",
       "<table border=\"1\" class=\"dataframe\">\n",
       "  <thead>\n",
       "    <tr style=\"text-align: right;\">\n",
       "      <th></th>\n",
       "      <th>region</th>\n",
       "      <th>kind</th>\n",
       "      <th>modelName</th>\n",
       "      <th>modelVersion</th>\n",
       "      <th>skuName</th>\n",
       "      <th>usageName</th>\n",
       "      <th>localizedUsageName</th>\n",
       "      <th>currentUsage</th>\n",
       "      <th>usageLimit</th>\n",
       "      <th>remainingQuota</th>\n",
       "      <th>usageUnit</th>\n",
       "    </tr>\n",
       "  </thead>\n",
       "  <tbody>\n",
       "    <tr>\n",
       "      <th>951</th>\n",
       "      <td>eastus2</td>\n",
       "      <td>AIServices</td>\n",
       "      <td>gpt-4o</td>\n",
       "      <td>2024-08-06</td>\n",
       "      <td>GlobalStandard</td>\n",
       "      <td>OpenAI.GlobalStandard.gpt-4o</td>\n",
       "      <td>Tokens Per Minute (thousands) - gpt-4o - GlobalStandard</td>\n",
       "      <td>11</td>\n",
       "      <td>30</td>\n",
       "      <td>19</td>\n",
       "      <td>Count</td>\n",
       "    </tr>\n",
       "    <tr>\n",
       "      <th>946</th>\n",
       "      <td>eastus2</td>\n",
       "      <td>AIServices</td>\n",
       "      <td>gpt-4o</td>\n",
       "      <td>2024-05-13</td>\n",
       "      <td>GlobalStandard</td>\n",
       "      <td>OpenAI.GlobalStandard.gpt-4o</td>\n",
       "      <td>Tokens Per Minute (thousands) - gpt-4o - GlobalStandard</td>\n",
       "      <td>11</td>\n",
       "      <td>30</td>\n",
       "      <td>19</td>\n",
       "      <td>Count</td>\n",
       "    </tr>\n",
       "    <tr>\n",
       "      <th>907</th>\n",
       "      <td>eastus2</td>\n",
       "      <td>OpenAI</td>\n",
       "      <td>gpt-4o</td>\n",
       "      <td>2024-08-06</td>\n",
       "      <td>GlobalStandard</td>\n",
       "      <td>OpenAI.GlobalStandard.gpt-4o</td>\n",
       "      <td>Tokens Per Minute (thousands) - gpt-4o - GlobalStandard</td>\n",
       "      <td>11</td>\n",
       "      <td>30</td>\n",
       "      <td>19</td>\n",
       "      <td>Count</td>\n",
       "    </tr>\n",
       "    <tr>\n",
       "      <th>902</th>\n",
       "      <td>eastus2</td>\n",
       "      <td>OpenAI</td>\n",
       "      <td>gpt-4o</td>\n",
       "      <td>2024-05-13</td>\n",
       "      <td>GlobalStandard</td>\n",
       "      <td>OpenAI.GlobalStandard.gpt-4o</td>\n",
       "      <td>Tokens Per Minute (thousands) - gpt-4o - GlobalStandard</td>\n",
       "      <td>11</td>\n",
       "      <td>30</td>\n",
       "      <td>19</td>\n",
       "      <td>Count</td>\n",
       "    </tr>\n",
       "    <tr>\n",
       "      <th>905</th>\n",
       "      <td>eastus2</td>\n",
       "      <td>OpenAI</td>\n",
       "      <td>gpt-4o</td>\n",
       "      <td>2024-05-13</td>\n",
       "      <td>DataZoneStandard</td>\n",
       "      <td>OpenAI.DataZoneStandard.gpt-4o</td>\n",
       "      <td>Tokens Per Minute (thousands) - gpt-4o - DataZoneStandard</td>\n",
       "      <td>10</td>\n",
       "      <td>30</td>\n",
       "      <td>20</td>\n",
       "      <td>Count</td>\n",
       "    </tr>\n",
       "  </tbody>\n",
       "</table>\n",
       "</div>"
      ],
      "text/plain": [
       "      region        kind modelName modelVersion           skuName  \\\n",
       "951  eastus2  AIServices    gpt-4o   2024-08-06    GlobalStandard   \n",
       "946  eastus2  AIServices    gpt-4o   2024-05-13    GlobalStandard   \n",
       "907  eastus2      OpenAI    gpt-4o   2024-08-06    GlobalStandard   \n",
       "902  eastus2      OpenAI    gpt-4o   2024-05-13    GlobalStandard   \n",
       "905  eastus2      OpenAI    gpt-4o   2024-05-13  DataZoneStandard   \n",
       "\n",
       "                          usageName  \\\n",
       "951    OpenAI.GlobalStandard.gpt-4o   \n",
       "946    OpenAI.GlobalStandard.gpt-4o   \n",
       "907    OpenAI.GlobalStandard.gpt-4o   \n",
       "902    OpenAI.GlobalStandard.gpt-4o   \n",
       "905  OpenAI.DataZoneStandard.gpt-4o   \n",
       "\n",
       "                                            localizedUsageName  currentUsage  \\\n",
       "951    Tokens Per Minute (thousands) - gpt-4o - GlobalStandard            11   \n",
       "946    Tokens Per Minute (thousands) - gpt-4o - GlobalStandard            11   \n",
       "907    Tokens Per Minute (thousands) - gpt-4o - GlobalStandard            11   \n",
       "902    Tokens Per Minute (thousands) - gpt-4o - GlobalStandard            11   \n",
       "905  Tokens Per Minute (thousands) - gpt-4o - DataZoneStandard            10   \n",
       "\n",
       "     usageLimit  remainingQuota usageUnit  \n",
       "951          30              19     Count  \n",
       "946          30              19     Count  \n",
       "907          30              19     Count  \n",
       "902          30              19     Count  \n",
       "905          30              20     Count  "
      ]
     },
     "execution_count": 21,
     "metadata": {},
     "output_type": "execute_result"
    }
   ],
   "source": [
    "def format_model_region_usage(model_region_usage):\n",
    "    usage = model_region_usage['usage']\n",
    "    return format_model_region_sku(model_region_usage) | format_usage(usage)\n",
    "\n",
    "## Convert the list to a DataFrame\n",
    "df = pd.DataFrame(map(format_model_region_usage, joined_model_sku_usages))\n",
    "df.sort_values(by='currentUsage', ascending=False).loc[:, df.columns != 'skus'].head()"
   ]
  },
  {
   "cell_type": "markdown",
   "id": "77b6ca25",
   "metadata": {},
   "source": [
    "> **Note**: Only the top 5 are displayed"
   ]
  },
  {
   "cell_type": "markdown",
   "id": "c8ef7206-34c7-429b-a138-d68a3bba6e33",
   "metadata": {},
   "source": [
    "## Find models matching requirements"
   ]
  },
  {
   "cell_type": "markdown",
   "id": "da4c8925-a154-4ba3-8acf-a436972f2583",
   "metadata": {},
   "source": [
    "### Find models matching name, TPM and SKU requirements\n",
    "\n",
    "Let's define a helper function to help us filter models by name, remaining tpm and SKU:"
   ]
  },
  {
   "cell_type": "code",
   "execution_count": 22,
   "id": "c060ccd6-6f8a-480d-b034-26d81a313b14",
   "metadata": {},
   "outputs": [],
   "source": [
    "def model_matches(model_names, tpm, sku_names):\n",
    "    def criteria(model, sku, usage, **kwargs):\n",
    "        if not usage:\n",
    "            return False\n",
    "        limit = usage['limit']\n",
    "        current = usage['currentValue']\n",
    "        remaining = limit - current\n",
    "        model_name = model['model']['name']\n",
    "        sku_name = sku['name']\n",
    "        matches = True\n",
    "        if model_names:\n",
    "            matches = matches and model_name in model_names\n",
    "        if sku_names:\n",
    "            matches = matches and sku_name in sku_names\n",
    "        if tpm:\n",
    "            matches = matches and remaining >= tpm\n",
    "        return matches\n",
    "    return criteria\n",
    "\n",
    "def filter_models_sku_usages(criteria, models_sku_usages):\n",
    "    return list(filter(lambda msu: criteria(**msu), models_sku_usages))"
   ]
  },
  {
   "attachments": {},
   "cell_type": "markdown",
   "id": "8768e38e-f242-4071-a98a-a4169e8a1b1b",
   "metadata": {},
   "source": [
    "### Example of the Contoso Creative Writer application\n",
    "\n",
    "Let's take the example for the [contoso-creative-writer](https://github.com/Azure-Samples/contoso-creative-writer) sample Azure AI application:\n",
    "\n",
    "| Requirement\t| Model\t| SKU\t| TPM |\n",
    "| --- | --- | --- | --- |\n",
    "| editor\t| gpt-35-turbo or gpt-35-turbo-16k\t| Standard or Global Standard\t| 10k |\n",
    "| eval\t| gpt-4 or gpt-4-32k\t| Standard or Global Standard\t| 20k |\n",
    "| writer\t| gpt-4o\t| Standard or Global Standard\t| 15k |\n",
    "| embeddings\t| text-embedding-3-small or text-embedding-ada-002\t| Standard or Global Standard\t| 30k |\n"
   ]
  },
  {
   "cell_type": "markdown",
   "id": "586b1b67-63e3-4a10-8670-7c6e41aba0e0",
   "metadata": {},
   "source": [
    "Here's how to encode those requirements using the previous `model_matches` function:"
   ]
  },
  {
   "cell_type": "code",
   "execution_count": 23,
   "id": "52400d22-2c5a-4658-b899-ec333b0b0220",
   "metadata": {},
   "outputs": [],
   "source": [
    "editor_req      = model_matches(model_names = ['gpt-35-turbo', 'gpt-35-turbo-16k'], tpm = 10, sku_names = ['Standard', 'GlobalStandard'])\n",
    "eval_req        = model_matches(model_names = ['gpt-4', 'gpt-4-32k'], tpm = 5, sku_names = ['Standard', 'GlobalStandard'])\n",
    "writer_req      = model_matches(model_names = ['gpt-4o'], tpm = 15, sku_names = ['Standard', 'GlobalStandard'])\n",
    "embedding_req   = model_matches(model_names = ['text-embedding-3-small', 'text-embedding-ada-002'], tpm = 30, sku_names = ['Standard', 'GlobalStandard'])\n",
    "\n",
    "requirements = [editor_req, eval_req, writer_req, embedding_req]"
   ]
  },
  {
   "cell_type": "markdown",
   "id": "1db1ffd7-3c02-415e-b32d-ad859fda452a",
   "metadata": {},
   "source": [
    "### Find all models matching requirements\n",
    "\n",
    "Let's say you want to get an overview of all models matching any of the requirements"
   ]
  },
  {
   "cell_type": "markdown",
   "id": "cf2d474b",
   "metadata": {},
   "source": [
    "For this, we'll need a helper to build a predicate that returns true if any of the requirements is true"
   ]
  },
  {
   "cell_type": "code",
   "execution_count": 24,
   "id": "2232a45e",
   "metadata": {},
   "outputs": [],
   "source": [
    "def __any__(predicates):\n",
    "    from functools import reduce\n",
    "    def pred(*args, **kwargs):\n",
    "        return reduce(lambda bool_value, predicate: bool_value or predicate(*args, **kwargs), predicates, False)\n",
    "    return pred"
   ]
  },
  {
   "cell_type": "code",
   "execution_count": 25,
   "id": "00872a7a-6e10-494d-9c07-72bf6685a640",
   "metadata": {},
   "outputs": [
    {
     "data": {
      "text/html": [
       "<div>\n",
       "<style scoped>\n",
       "    .dataframe tbody tr th:only-of-type {\n",
       "        vertical-align: middle;\n",
       "    }\n",
       "\n",
       "    .dataframe tbody tr th {\n",
       "        vertical-align: top;\n",
       "    }\n",
       "\n",
       "    .dataframe thead th {\n",
       "        text-align: right;\n",
       "    }\n",
       "</style>\n",
       "<table border=\"1\" class=\"dataframe\">\n",
       "  <thead>\n",
       "    <tr style=\"text-align: right;\">\n",
       "      <th></th>\n",
       "      <th>region</th>\n",
       "      <th>kind</th>\n",
       "      <th>modelName</th>\n",
       "      <th>modelVersion</th>\n",
       "      <th>skuName</th>\n",
       "      <th>usageName</th>\n",
       "      <th>localizedUsageName</th>\n",
       "      <th>currentUsage</th>\n",
       "      <th>usageLimit</th>\n",
       "      <th>remainingQuota</th>\n",
       "      <th>usageUnit</th>\n",
       "    </tr>\n",
       "  </thead>\n",
       "  <tbody>\n",
       "    <tr>\n",
       "      <th>76</th>\n",
       "      <td>eastus2</td>\n",
       "      <td>OpenAI</td>\n",
       "      <td>gpt-4o</td>\n",
       "      <td>2024-05-13</td>\n",
       "      <td>GlobalStandard</td>\n",
       "      <td>OpenAI.GlobalStandard.gpt-4o</td>\n",
       "      <td>Tokens Per Minute (thousands) - gpt-4o - GlobalStandard</td>\n",
       "      <td>11</td>\n",
       "      <td>30</td>\n",
       "      <td>19</td>\n",
       "      <td>Count</td>\n",
       "    </tr>\n",
       "    <tr>\n",
       "      <th>77</th>\n",
       "      <td>eastus2</td>\n",
       "      <td>OpenAI</td>\n",
       "      <td>gpt-4o</td>\n",
       "      <td>2024-08-06</td>\n",
       "      <td>GlobalStandard</td>\n",
       "      <td>OpenAI.GlobalStandard.gpt-4o</td>\n",
       "      <td>Tokens Per Minute (thousands) - gpt-4o - GlobalStandard</td>\n",
       "      <td>11</td>\n",
       "      <td>30</td>\n",
       "      <td>19</td>\n",
       "      <td>Count</td>\n",
       "    </tr>\n",
       "    <tr>\n",
       "      <th>87</th>\n",
       "      <td>eastus2</td>\n",
       "      <td>AIServices</td>\n",
       "      <td>gpt-4o</td>\n",
       "      <td>2024-08-06</td>\n",
       "      <td>GlobalStandard</td>\n",
       "      <td>OpenAI.GlobalStandard.gpt-4o</td>\n",
       "      <td>Tokens Per Minute (thousands) - gpt-4o - GlobalStandard</td>\n",
       "      <td>11</td>\n",
       "      <td>30</td>\n",
       "      <td>19</td>\n",
       "      <td>Count</td>\n",
       "    </tr>\n",
       "    <tr>\n",
       "      <th>86</th>\n",
       "      <td>eastus2</td>\n",
       "      <td>AIServices</td>\n",
       "      <td>gpt-4o</td>\n",
       "      <td>2024-05-13</td>\n",
       "      <td>GlobalStandard</td>\n",
       "      <td>OpenAI.GlobalStandard.gpt-4o</td>\n",
       "      <td>Tokens Per Minute (thousands) - gpt-4o - GlobalStandard</td>\n",
       "      <td>11</td>\n",
       "      <td>30</td>\n",
       "      <td>19</td>\n",
       "      <td>Count</td>\n",
       "    </tr>\n",
       "    <tr>\n",
       "      <th>4</th>\n",
       "      <td>westus</td>\n",
       "      <td>OpenAI</td>\n",
       "      <td>gpt-4</td>\n",
       "      <td>turbo-2024-04-09</td>\n",
       "      <td>Standard</td>\n",
       "      <td>OpenAI.Standard.gpt-4-turbo</td>\n",
       "      <td>Tokens Per Minute (thousands) - GPT-4-Turbo</td>\n",
       "      <td>0</td>\n",
       "      <td>8</td>\n",
       "      <td>8</td>\n",
       "      <td>Count</td>\n",
       "    </tr>\n",
       "  </tbody>\n",
       "</table>\n",
       "</div>"
      ],
      "text/plain": [
       "     region        kind modelName      modelVersion         skuName  \\\n",
       "76  eastus2      OpenAI    gpt-4o        2024-05-13  GlobalStandard   \n",
       "77  eastus2      OpenAI    gpt-4o        2024-08-06  GlobalStandard   \n",
       "87  eastus2  AIServices    gpt-4o        2024-08-06  GlobalStandard   \n",
       "86  eastus2  AIServices    gpt-4o        2024-05-13  GlobalStandard   \n",
       "4    westus      OpenAI     gpt-4  turbo-2024-04-09        Standard   \n",
       "\n",
       "                       usageName  \\\n",
       "76  OpenAI.GlobalStandard.gpt-4o   \n",
       "77  OpenAI.GlobalStandard.gpt-4o   \n",
       "87  OpenAI.GlobalStandard.gpt-4o   \n",
       "86  OpenAI.GlobalStandard.gpt-4o   \n",
       "4    OpenAI.Standard.gpt-4-turbo   \n",
       "\n",
       "                                         localizedUsageName  currentUsage  \\\n",
       "76  Tokens Per Minute (thousands) - gpt-4o - GlobalStandard            11   \n",
       "77  Tokens Per Minute (thousands) - gpt-4o - GlobalStandard            11   \n",
       "87  Tokens Per Minute (thousands) - gpt-4o - GlobalStandard            11   \n",
       "86  Tokens Per Minute (thousands) - gpt-4o - GlobalStandard            11   \n",
       "4               Tokens Per Minute (thousands) - GPT-4-Turbo             0   \n",
       "\n",
       "    usageLimit  remainingQuota usageUnit  \n",
       "76          30              19     Count  \n",
       "77          30              19     Count  \n",
       "87          30              19     Count  \n",
       "86          30              19     Count  \n",
       "4            8               8     Count  "
      ]
     },
     "execution_count": 25,
     "metadata": {},
     "output_type": "execute_result"
    }
   ],
   "source": [
    "any_of_requirements = __any__(requirements)\n",
    "\n",
    "models_sku_usages_filtered = filter_models_sku_usages(any_of_requirements, joined_model_sku_usages)\n",
    "\n",
    "df = pd.DataFrame(map(format_model_region_usage, models_sku_usages_filtered))\n",
    "df.sort_values(by='currentUsage', ascending=False).loc[:, df.columns != 'skus'].head()"
   ]
  },
  {
   "cell_type": "markdown",
   "id": "a85b047a",
   "metadata": {},
   "source": [
    "> **Note**: Only the top 5 are displayed"
   ]
  },
  {
   "cell_type": "markdown",
   "id": "2aa618da-7737-42f7-abe3-625d4a6902cb",
   "metadata": {},
   "source": [
    "## Finding regions matching all model requirements\n",
    "\n",
    "Sometimes, you're interested in deploying an AI application in a region where all requirements are met."
   ]
  },
  {
   "cell_type": "code",
   "execution_count": 26,
   "id": "923b479a-90cd-4e53-a99b-d6dd448dda09",
   "metadata": {},
   "outputs": [],
   "source": [
    "def unique_regions(model_sku_usages):\n",
    "    return set([model_sku_usage['region'] for model_sku_usage in model_sku_usages])"
   ]
  },
  {
   "cell_type": "code",
   "execution_count": 27,
   "id": "eb185cc4-243f-4e46-8c2a-450757d59ef6",
   "metadata": {},
   "outputs": [
    {
     "name": "stdout",
     "output_type": "stream",
     "text": [
      "southcentralus, westus, eastus2, eastus, westus3, northcentralus\n"
     ]
    }
   ],
   "source": [
    "def regions_matching_all(requirements, joined_model_sku_usages):\n",
    "    filter_msu_sets = [filter_models_sku_usages(req, joined_model_sku_usages) for req in requirements]\n",
    "    regions_sets = [unique_regions(model_sku_usages) for model_sku_usages in filter_msu_sets]\n",
    "    return set.intersection(*regions_sets)\n",
    "\n",
    "final_regions = regions_matching_all(requirements, joined_model_sku_usages)\n",
    "print(\", \".join(final_regions))"
   ]
  },
  {
   "cell_type": "markdown",
   "id": "79ab88ec-5456-43dc-86b1-4ab24d9d2c78",
   "metadata": {},
   "source": [
    "## Useful links\n",
    "\n",
    "- [Azure REST API Browser](https://learn.microsoft.com/en-us/rest/api/)\n",
    "- [Azure Locations API MS Learn](https://learn.microsoft.com/en-us/rest/api/resources/subscriptions/list-locations)\n",
    "- [Azure AI Models API MS Learn](https://learn.microsoft.com/en-us/rest/api/aiservices/accountmanagement/models/list)\n",
    "- [Azure AI Usages API MS Learn](https://learn.microsoft.com/en-us/rest/api/aiservices/accountmanagement/usages/list) (Quotas)"
   ]
  },
  {
   "cell_type": "code",
   "execution_count": null,
   "id": "3b86dca8-31ea-4bc1-8f88-0f782c01c64f",
   "metadata": {},
   "outputs": [],
   "source": []
  }
 ],
 "metadata": {
  "kernelspec": {
   "display_name": "Python 3",
   "language": "python",
   "name": "python3"
  },
  "language_info": {
   "codemirror_mode": {
    "name": "ipython",
    "version": 3
   },
   "file_extension": ".py",
   "mimetype": "text/x-python",
   "name": "python",
   "nbconvert_exporter": "python",
   "pygments_lexer": "ipython3",
   "version": "3.12.7"
  }
 },
 "nbformat": 4,
 "nbformat_minor": 5
}
